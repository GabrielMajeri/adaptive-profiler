{
 "cells": [
  {
   "cell_type": "markdown",
   "metadata": {},
   "source": [
    "# Boxplots for explaining the racing algorithm"
   ]
  },
  {
   "cell_type": "code",
   "execution_count": null,
   "metadata": {
    "scrolled": false
   },
   "outputs": [],
   "source": [
    "import numpy as np\n",
    "import matplotlib.pyplot as plt\n",
    "\n",
    "# Fix the random seed\n",
    "np.random.seed(7)\n",
    "\n",
    "# Generate some fake data\n",
    "N = 100\n",
    "\n",
    "fn1_data = 3 * np.random.randn(N) + 50\n",
    "fn2_data = 2 * np.random.randn(N) + 57\n",
    "fn3_data = 5 * np.random.randn(N) + 30\n",
    "\n",
    "_, ax = plt.subplots(dpi=180)\n",
    "\n",
    "bp = ax.boxplot([fn1_data, fn2_data, fn3_data], labels=['$f_1$', '$f_2$', '$f_3$'],\n",
    "                    showfliers=False, showmeans=False)\n",
    "ax.set_ylabel('Timp de execuție (ms)')\n",
    "\n",
    "xmin, xmax = 0.5, 3.5\n",
    "if True:\n",
    "    ax.hlines(39.17, xmin=xmin, xmax=xmax, linestyles='dashed', color='crimson')\n",
    "ax.set_xlim(xmin, xmax)\n",
    "\n",
    "plt.savefig('racing.png')\n",
    "plt.show()"
   ]
  },
  {
   "cell_type": "markdown",
   "metadata": {},
   "source": [
    "# Analysing real data"
   ]
  },
  {
   "cell_type": "code",
   "execution_count": null,
   "metadata": {},
   "outputs": [],
   "source": [
    "import numpy as np\n",
    "\n",
    "stats = {}\n",
    "with open('../stats2.txt') as f:\n",
    "    for line in f:\n",
    "        fn_name = line.strip()\n",
    "        values = np.array([int(x) for x in f.readline().strip().split()])\n",
    "        stats[fn_name] = values"
   ]
  },
  {
   "cell_type": "code",
   "execution_count": null,
   "metadata": {},
   "outputs": [],
   "source": [
    "import matplotlib.pyplot as plt\n",
    "import scipy.stats as st\n",
    "\n",
    "new_stats = {}\n",
    "for key, timestamps in stats.items():\n",
    "    timestamps.sort()\n",
    "    n = len(timestamps)\n",
    "    start = int(0.05 * n)\n",
    "    end = int(0.95 * n)\n",
    "    \n",
    "    new_stats[key] = timestamps[start:end]"
   ]
  },
  {
   "cell_type": "code",
   "execution_count": null,
   "metadata": {},
   "outputs": [],
   "source": [
    "plt.figure(dpi=120)\n",
    "plt.boxplot(new_stats.values(), labels=new_stats.keys())\n",
    "plt.xlabel('Numele funcției')\n",
    "plt.ylabel('Timp de execuție (ns)')\n",
    "plt.yscale('log')\n",
    "plt.savefig('matmul_fns.png')\n",
    "plt.show()"
   ]
  },
  {
   "cell_type": "code",
   "execution_count": null,
   "metadata": {},
   "outputs": [],
   "source": []
  }
 ],
 "metadata": {
  "kernelspec": {
   "display_name": "Python 3",
   "language": "python",
   "name": "python3"
  },
  "language_info": {
   "codemirror_mode": {
    "name": "ipython",
    "version": 3
   },
   "file_extension": ".py",
   "mimetype": "text/x-python",
   "name": "python",
   "nbconvert_exporter": "python",
   "pygments_lexer": "ipython3",
   "version": "3.9.5"
  }
 },
 "nbformat": 4,
 "nbformat_minor": 4
}
