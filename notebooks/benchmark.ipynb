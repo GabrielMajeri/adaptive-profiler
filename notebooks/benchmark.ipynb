{
 "cells": [
  {
   "cell_type": "code",
   "execution_count": null,
   "id": "incorporate-highlight",
   "metadata": {},
   "outputs": [],
   "source": [
    "import pandas as pd\n",
    "import matplotlib.pyplot as plt\n",
    "import seaborn as sns\n",
    "\n",
    "sns.set_theme()"
   ]
  },
  {
   "cell_type": "code",
   "execution_count": null,
   "id": "measured-polymer",
   "metadata": {},
   "outputs": [],
   "source": [
    "cprofile_times = {\n",
    "    'multiply_matrices': 28390625.0,\n",
    "    'multiply': 144.01041666666666,\n",
    "    '<listcomp>': 93750.0,\n",
    "}"
   ]
  },
  {
   "cell_type": "code",
   "execution_count": null,
   "id": "decimal-reply",
   "metadata": {},
   "outputs": [],
   "source": [
    "adaptive_profiler_times = {\n",
    "    'multiply_matrices': 30920718.666666668,\n",
    "    'multiply': 171.74783333333335,\n",
    "    '<listcomp>': 3281.294117647059,\n",
    "}"
   ]
  },
  {
   "cell_type": "code",
   "execution_count": null,
   "id": "abstract-building",
   "metadata": {},
   "outputs": [],
   "source": [
    "py_spy_times = {\n",
    "    'multiply_matrices': (0.560 + 0.060) * 1e9,\n",
    "    'multiply': (0.080 + 0.040) * 1e9,\n",
    "    '<listcomp>': 0\n",
    "}"
   ]
  },
  {
   "cell_type": "code",
   "execution_count": null,
   "id": "collectible-conservative",
   "metadata": {},
   "outputs": [],
   "source": [
    "def yield_times(profiler, times):\n",
    "    for fn, time in times.items():\n",
    "        yield {\n",
    "            'profiler': profiler,\n",
    "            'function': fn,\n",
    "            'time': time\n",
    "        }"
   ]
  },
  {
   "cell_type": "code",
   "execution_count": null,
   "id": "fifty-thomas",
   "metadata": {},
   "outputs": [],
   "source": [
    "def yield_all_times():\n",
    "    yield from yield_times('cProfile', cprofile_times)\n",
    "    yield from yield_times('adaptive_profiler', adaptive_profiler_times)\n",
    "    yield from yield_times('py-spy', py_spy_times)"
   ]
  },
  {
   "cell_type": "code",
   "execution_count": null,
   "id": "breeding-palestine",
   "metadata": {},
   "outputs": [],
   "source": [
    "df = pd.DataFrame(yield_all_times())\n",
    "df"
   ]
  },
  {
   "cell_type": "code",
   "execution_count": null,
   "id": "olive-november",
   "metadata": {},
   "outputs": [],
   "source": [
    "plt.figure(dpi=120)\n",
    "g = sns.barplot(x='function', hue='profiler', y='time', data=df)\n",
    "g.set_yscale('log')\n",
    "plt.savefig('profiles.png')\n",
    "plt.show()"
   ]
  },
  {
   "cell_type": "code",
   "execution_count": null,
   "id": "grave-zoning",
   "metadata": {
    "scrolled": true
   },
   "outputs": [],
   "source": [
    "from scipy.stats import entropy\n",
    "\n",
    "a = df[df['profiler'] == 'cProfile'].time\n",
    "b = df[df['profiler'] == 'py-spy'].time\n",
    "c = df[df['profiler'] == 'adaptive_profiler'].time\n",
    "\n",
    "print('cProfile vs py-spy:', entropy(b, a))\n",
    "print('cProfile vs profiler:', entropy(c, a))"
   ]
  },
  {
   "cell_type": "code",
   "execution_count": null,
   "id": "after-distributor",
   "metadata": {},
   "outputs": [],
   "source": []
  }
 ],
 "metadata": {
  "kernelspec": {
   "display_name": "Python 3",
   "language": "python",
   "name": "python3"
  },
  "language_info": {
   "codemirror_mode": {
    "name": "ipython",
    "version": 3
   },
   "file_extension": ".py",
   "mimetype": "text/x-python",
   "name": "python",
   "nbconvert_exporter": "python",
   "pygments_lexer": "ipython3",
   "version": "3.9.7"
  }
 },
 "nbformat": 4,
 "nbformat_minor": 5
}
