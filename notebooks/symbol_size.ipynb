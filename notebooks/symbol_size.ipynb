{
 "cells": [
  {
   "cell_type": "markdown",
   "id": "supported-space",
   "metadata": {},
   "source": [
    "# Comparison of string interner symbol sizes"
   ]
  },
  {
   "cell_type": "code",
   "execution_count": null,
   "id": "general-glass",
   "metadata": {},
   "outputs": [],
   "source": [
    "import matplotlib.pyplot as plt"
   ]
  },
  {
   "cell_type": "code",
   "execution_count": null,
   "id": "sonic-instrument",
   "metadata": {},
   "outputs": [],
   "source": [
    "data = {\n",
    "    'U16': [1633294700, 1711781598, 1664901804, 1679971623, 1611924370, 1730891146, 1600198080, 1639259867, 1646626571],\n",
    "    'U32': [1669484905, 1647691817, 1705415859, 1641721719, 1657424887, 1627174293],\n",
    "    'Usize': [1607096602, 1679351805, 1698183200, 1648094197, 1643343218, 1648709836, 1637536981],\n",
    "}"
   ]
  },
  {
   "cell_type": "code",
   "execution_count": null,
   "id": "resident-rescue",
   "metadata": {},
   "outputs": [],
   "source": [
    "plt.figure(dpi=120)\n",
    "plt.boxplot(data.values(), labels=data.keys())\n",
    "plt.xlabel('Tipul simbolului')\n",
    "plt.ylabel('Timp de execuție (ns)')\n",
    "plt.savefig('symbol_size.png')\n",
    "plt.show()"
   ]
  },
  {
   "cell_type": "code",
   "execution_count": null,
   "id": "subsequent-freeze",
   "metadata": {},
   "outputs": [],
   "source": []
  }
 ],
 "metadata": {
  "kernelspec": {
   "display_name": "Python 3",
   "language": "python",
   "name": "python3"
  },
  "language_info": {
   "codemirror_mode": {
    "name": "ipython",
    "version": 3
   },
   "file_extension": ".py",
   "mimetype": "text/x-python",
   "name": "python",
   "nbconvert_exporter": "python",
   "pygments_lexer": "ipython3",
   "version": "3.9.5"
  }
 },
 "nbformat": 4,
 "nbformat_minor": 5
}
